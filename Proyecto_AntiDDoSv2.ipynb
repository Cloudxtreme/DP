{
 "cells": [
  {
   "cell_type": "markdown",
   "metadata": {},
   "source": [
    "## Objetivo 1: Poder poner una política determinada en forward (\"report only\")"
   ]
  },
  {
   "cell_type": "code",
   "execution_count": 2,
   "metadata": {},
   "outputs": [
    {
     "data": {
      "text/plain": [
       "{'status': 'ok',\n",
       " 'jsessionid': 'BE8C9751798EFBAA98844F92DA728A72',\n",
       " 'visionsessionid': 'a22c1c31-78b6-43d1-bc83-3c6b2a69df54'}"
      ]
     },
     "execution_count": 2,
     "metadata": {},
     "output_type": "execute_result"
    }
   ],
   "source": [
    "import requests\n",
    "from requests import Request, Session\n",
    "\n",
    "#Hide all warnings\n",
    "import warnings\n",
    "warnings.filterwarnings('ignore')\n",
    "\n",
    "#Create a session to login\n",
    "s = requests.Session()\n",
    "loginurl = 'https://192.168.0.76/mgmt/system/user/login'\n",
    "loginArgs = {'username':'radware','password':'abc1234.'}\n",
    "cert = 'APSoluteVisionServer.pem'\n",
    "\n",
    "#Try login\n",
    "r = s.post(loginurl, verify=False, json=loginArgs)\n",
    "r.json()"
   ]
  },
  {
   "cell_type": "code",
   "execution_count": 3,
   "metadata": {},
   "outputs": [
    {
     "data": {
      "text/plain": [
       "{'rsIDSNewRulesTable': [{'rsIDSNewRulesName': 'Prueba',\n",
       "   'rsIDSServiceName': 'OBSOLETE',\n",
       "   'rsIDSNewRulesSource': 'any',\n",
       "   'rsIDSNewRulesDestination': 'any',\n",
       "   'rsIDSNewRulesDirection': '1',\n",
       "   'rsIDSNewRulesPortmask': '',\n",
       "   'rsIDSNewRulesState': '1',\n",
       "   'rsIDSNewRulesVlanTagGroup': '',\n",
       "   'rsIDSNewRulesAction': '1',\n",
       "   'rsIDSNewRulesPacketReportingStatus': '2',\n",
       "   'rsIDSNewRulesProfileAppsec': '',\n",
       "   'rsIDSNewRulesProfileConlmt': '',\n",
       "   'rsIDSNewRulesProfileStateful': '',\n",
       "   'rsIDSNewRulesProfileScanning': '',\n",
       "   'rsIDSNewRulesProfileNetflood': '',\n",
       "   'rsIDSNewRulesProfileSynprotection': '',\n",
       "   'rsIDSNewRulesProfileServprotection': 'OBSOLETE',\n",
       "   'rsIDSNewRulesProfilePPS': '',\n",
       "   'rsIDSNewRulesMPLSRDGroup': '',\n",
       "   'rsIDSNewRulesPacketTraceStatus': '2',\n",
       "   'rsIDSNewRulesPacketTraceEnforcement': '2',\n",
       "   'rsIDSNewRulesPacketReportingEnforcement': '1',\n",
       "   'rsIDSNewRulesProfileDNS': '',\n",
       "   'rsIDSQuarantineStatusInPolicy': '2',\n",
       "   'rsIDSNewRulesProfileServiceDiscovery': ''},\n",
       "  {'rsIDSNewRulesName': 'Prueba2',\n",
       "   'rsIDSServiceName': 'OBSOLETE',\n",
       "   'rsIDSNewRulesSource': 'any',\n",
       "   'rsIDSNewRulesDestination': 'any',\n",
       "   'rsIDSNewRulesDirection': '1',\n",
       "   'rsIDSNewRulesPortmask': '',\n",
       "   'rsIDSNewRulesState': '1',\n",
       "   'rsIDSNewRulesVlanTagGroup': '',\n",
       "   'rsIDSNewRulesAction': '1',\n",
       "   'rsIDSNewRulesPacketReportingStatus': '2',\n",
       "   'rsIDSNewRulesProfileAppsec': '',\n",
       "   'rsIDSNewRulesProfileConlmt': '',\n",
       "   'rsIDSNewRulesProfileStateful': '',\n",
       "   'rsIDSNewRulesProfileScanning': '',\n",
       "   'rsIDSNewRulesProfileNetflood': '',\n",
       "   'rsIDSNewRulesProfileSynprotection': '',\n",
       "   'rsIDSNewRulesProfileServprotection': 'OBSOLETE',\n",
       "   'rsIDSNewRulesProfilePPS': '',\n",
       "   'rsIDSNewRulesMPLSRDGroup': '',\n",
       "   'rsIDSNewRulesPacketTraceStatus': '1',\n",
       "   'rsIDSNewRulesPacketTraceEnforcement': '2',\n",
       "   'rsIDSNewRulesPacketReportingEnforcement': '1',\n",
       "   'rsIDSNewRulesProfileDNS': '',\n",
       "   'rsIDSQuarantineStatusInPolicy': '2',\n",
       "   'rsIDSNewRulesProfileServiceDiscovery': ''},\n",
       "  {'rsIDSNewRulesName': 'Prueba3',\n",
       "   'rsIDSServiceName': 'OBSOLETE',\n",
       "   'rsIDSNewRulesSource': 'any',\n",
       "   'rsIDSNewRulesDestination': 'any',\n",
       "   'rsIDSNewRulesDirection': '1',\n",
       "   'rsIDSNewRulesPortmask': '',\n",
       "   'rsIDSNewRulesState': '1',\n",
       "   'rsIDSNewRulesVlanTagGroup': '',\n",
       "   'rsIDSNewRulesAction': '1',\n",
       "   'rsIDSNewRulesPacketReportingStatus': '2',\n",
       "   'rsIDSNewRulesProfileAppsec': '',\n",
       "   'rsIDSNewRulesProfileConlmt': '',\n",
       "   'rsIDSNewRulesProfileStateful': '',\n",
       "   'rsIDSNewRulesProfileScanning': '',\n",
       "   'rsIDSNewRulesProfileNetflood': '',\n",
       "   'rsIDSNewRulesProfileSynprotection': '',\n",
       "   'rsIDSNewRulesProfileServprotection': 'OBSOLETE',\n",
       "   'rsIDSNewRulesProfilePPS': '',\n",
       "   'rsIDSNewRulesMPLSRDGroup': '',\n",
       "   'rsIDSNewRulesPacketTraceStatus': '2',\n",
       "   'rsIDSNewRulesPacketTraceEnforcement': '2',\n",
       "   'rsIDSNewRulesPacketReportingEnforcement': '1',\n",
       "   'rsIDSNewRulesProfileDNS': '',\n",
       "   'rsIDSQuarantineStatusInPolicy': '2',\n",
       "   'rsIDSNewRulesProfileServiceDiscovery': ''}]}"
      ]
     },
     "execution_count": 3,
     "metadata": {},
     "output_type": "execute_result"
    }
   ],
   "source": [
    "#Get Device table row\n",
    "#GET /mgmt/device/byip/{deviceIp}/config/{tableName}/{indexes : .+}\n",
    "\n",
    "''' URL Examples:\n",
    "https://192.168.0.76/mgmt/device/byip/192.168.0.11/config/rsIDSNewRulesTable\n",
    "https://192.168.0.76/mgmt/device/byip/192.168.0.11/config/rsIDSNewRulesTable/{Policy}\n",
    "https://192.168.0.76/mgmt/device/byip/192.168.0.11/config/rsIDSNewRulesTable?props=rsIDSNewRulesName\n",
    "'''\n",
    "\n",
    "#Report Only ~ rsIDSNewRulesAction: 0\n",
    "#Block and Report ~ rsIDSNewRulesAction: 1\n",
    "\n",
    "url = 'https://192.168.0.76/mgmt/device/byip/192.168.0.11/config/rsIDSNewRulesTable'\n",
    "\n",
    "r = s.get(url, verify=False)\n",
    "r.json()"
   ]
  },
  {
   "cell_type": "code",
   "execution_count": 5,
   "metadata": {},
   "outputs": [
    {
     "name": "stdout",
     "output_type": "stream",
     "text": [
      "1\n",
      "1\n",
      "1\n"
     ]
    }
   ],
   "source": [
    "#Get Device table row\n",
    "#GET /mgmt/device/byip/{deviceIp}/config/{tableName}/{indexes : .+}\n",
    "\n",
    "''' URL Examples:\n",
    "https://192.168.0.76/mgmt/device/byip/192.168.0.11/config/rsIDSNewRulesTable\n",
    "https://192.168.0.76/mgmt/device/byip/192.168.0.11/config/rsIDSNewRulesTable/{Policy}\n",
    "https://192.168.0.76/mgmt/device/byip/192.168.0.11/config/rsIDSNewRulesTable?props=rsIDSNewRulesName\n",
    "'''\n",
    "\n",
    "#Report Only ~ rsIDSNewRulesAction: 0\n",
    "#Block and Report ~ rsIDSNewRulesAction: 1\n",
    "\n",
    "url = 'https://192.168.0.76/mgmt/device/byip/192.168.0.11/config/rsIDSNewRulesTable'\n",
    "\n",
    "r = s.get(url, verify=False)\n",
    "data = r.json()\n",
    "\n",
    "#Modify the response manual\n",
    "data = data['rsIDSNewRulesTable']\n",
    "for d in data:\n",
    "    for k, v in d.items():\n",
    "        if k == 'rsIDSNewRulesAction':\n",
    "            print(v)\n"
   ]
  },
  {
   "cell_type": "code",
   "execution_count": 9,
   "metadata": {},
   "outputs": [
    {
     "data": {
      "text/plain": [
       "{'status': 'error',\n",
       " 'message': 'M_00314: Device DefensePro, DP must be locked',\n",
       " 'Exception': 'com.radware.vision.web.api.util.device.mib_actions.DeviceMibConfigHandlerBean.updateMibTableItemSync(DeviceMibConfigHandlerBean.java:665)\\nsun.reflect.NativeMethodAccessorImpl.invoke0(Native Method)\\nsun.reflect.NativeMethodAccessorImpl.invoke(NativeMethodAccessorImpl.java:62)\\nsun.reflect.DelegatingMethodAccessorImpl.invoke(DelegatingMethodAccessorImpl.java:43)\\njava.lang.reflect.Method.invoke(Method.java:498)\\norg.jboss.aop.joinpoint.MethodInvocation.invokeNext(MethodInvocation.java:112)\\norg.jboss.ejb3.interceptor.InvocationContextImpl.proceed(InvocationContextImpl.java:166)\\norg.jboss.ejb3.interceptor.EJB3InterceptorsInterceptor.invoke(EJB3InterceptorsInterceptor.java:63)\\norg.jboss.aop.joinpoint.MethodInvocation.invokeNext(MethodInvocation.java:101)\\norg.jboss.ejb3.entity.TransactionScopedEntityManagerInterceptor.invoke(TransactionScopedEntityManagerInterceptor.java:54)\\norg.jboss.aop.joinpoint.MethodInvocation.invokeNext(MethodInvocation.java:101)\\norg.jboss.ejb3.AllowedOperationsInterceptor.invoke(AllowedOperationsInterceptor.java:47)\\norg.jboss.aop.joinpoint.MethodInvocation.invokeNext(MethodInvocation.java:101)\\norg.jboss.aspects.tx.TxPolicy.invokeInCallerTx(TxPolicy.java:126)\\norg.jboss.aspects.tx.TxInterceptor$Required.invoke(TxInterceptor.java:195)\\norg.jboss.aop.joinpoint.MethodInvocation.invokeNext(MethodInvocation.java:101)\\norg.jboss.aspects.tx.TxPropagationInterceptor.invoke(TxPropagationInterceptor.java:76)\\norg.jboss.aop.joinpoint.MethodInvocation.invokeNext(MethodInvocation.java:101)\\norg.jboss.ejb3.stateless.StatelessInstanceInterceptor.invoke(StatelessInstanceInterceptor.java:62)\\norg.jboss.aop.joinpoint.MethodInvocation.invokeNext(MethodInvocation.java:101)\\norg.jboss.aspects.security.AuthenticationInterceptor.invoke(AuthenticationInterceptor.java:77)\\norg.jboss.ejb3.security.Ejb3AuthenticationInterceptor.invoke(Ejb3AuthenticationInterceptor.java:110)\\norg.jboss.aop.joinpoint.MethodInvocation.invokeNext(MethodInvocation.java:101)\\norg.jboss.ejb3.ENCPropagationInterceptor.invoke(ENCPropagationInterceptor.java:46)\\norg.jboss.aop.joinpoint.MethodInvocation.invokeNext(MethodInvocation.java:101)\\norg.jboss.ejb3.asynchronous.AsynchronousInterceptor.invoke(AsynchronousInterceptor.java:106)\\norg.jboss.aop.joinpoint.MethodInvocation.invokeNext(MethodInvocation.java:101)\\norg.jboss.ejb3.stateless.StatelessContainer.localInvoke(StatelessContainer.java:240)\\norg.jboss.ejb3.stateless.StatelessContainer.localInvoke(StatelessContainer.java:210)\\norg.jboss.ejb3.stateless.StatelessLocalProxy.invoke(StatelessLocalProxy.java:84)\\ncom.sun.proxy.$Proxy616.updateMibTableItemSync(Unknown Source)\\ncom.radware.vision.web.api.resource.WebDeviceCommunicationBean.updateMibTableItem(WebDeviceCommunicationBean.java:324)\\ncom.radware.vision.web.api.resource.WebDeviceCommunicationBean.updateMibTableItem(WebDeviceCommunicationBean.java:298)\\nsun.reflect.NativeMethodAccessorImpl.invoke0(Native Method)\\nsun.reflect.NativeMethodAccessorImpl.invoke(NativeMethodAccessorImpl.java:62)\\nsun.reflect.DelegatingMethodAccessorImpl.invoke(DelegatingMethodAccessorImpl.java:43)\\njava.lang.reflect.Method.invoke(Method.java:498)\\norg.jboss.aop.joinpoint.MethodInvocation.invokeNext(MethodInvocation.java:112)\\norg.jboss.ejb3.interceptor.InvocationContextImpl.proceed(InvocationContextImpl.java:166)\\ncom.radware.insite.server.facade.interceptors.SessionsManagerInterceptor.validateSession(SessionsManagerInterceptor.java:94)\\nsun.reflect.GeneratedMethodAccessor230.invoke(Unknown Source)\\nsun.reflect.DelegatingMethodAccessorImpl.invoke(DelegatingMethodAccessorImpl.java:43)\\njava.lang.reflect.Method.invoke(Method.java:498)\\norg.jboss.ejb3.interceptor.InvocationContextImpl.proceed(InvocationContextImpl.java:118)\\norg.jboss.ejb3.interceptor.EJB3InterceptorsInterceptor.invoke(EJB3InterceptorsInterceptor.java:63)\\norg.jboss.aop.joinpoint.MethodInvocation.invokeNext(MethodInvocation.java:101)\\norg.jboss.ejb3.entity.TransactionScopedEntityManagerInterceptor.invoke(TransactionScopedEntityManagerInterceptor.java:54)\\norg.jboss.aop.joinpoint.MethodInvocation.invokeNext(MethodInvocation.java:101)\\norg.jboss.ejb3.AllowedOperationsInterceptor.invoke(AllowedOperationsInterceptor.java:47)\\norg.jboss.aop.joinpoint.MethodInvocation.invokeNext(MethodInvocation.java:101)\\norg.jboss.aspects.tx.TxPolicy.invokeInCallerTx(TxPolicy.java:126)\\norg.jboss.aspects.tx.TxInterceptor$Required.invoke(TxInterceptor.java:195)\\norg.jboss.aop.joinpoint.MethodInvocation.invokeNext(MethodInvocation.java:101)\\norg.jboss.aspects.tx.TxPropagationInterceptor.invoke(TxPropagationInterceptor.java:76)\\norg.jboss.aop.joinpoint.MethodInvocation.invokeNext(MethodInvocation.java:101)\\norg.jboss.ejb3.stateless.StatelessInstanceInterceptor.invoke(StatelessInstanceInterceptor.java:62)\\norg.jboss.aop.joinpoint.MethodInvocation.invokeNext(MethodInvocation.java:101)\\norg.jboss.aspects.security.AuthenticationInterceptor.invoke(AuthenticationInterceptor.java:77)\\norg.jboss.ejb3.security.Ejb3AuthenticationInterceptor.invoke(Ejb3AuthenticationInterceptor.java:110)\\norg.jboss.aop.joinpoint.MethodInvocation.invokeNext(MethodInvocation.java:101)\\norg.jboss.ejb3.ENCPropagationInterceptor.invoke(ENCPropagationInterceptor.java:46)\\norg.jboss.aop.joinpoint.MethodInvocation.invokeNext(MethodInvocation.java:101)\\norg.jboss.ejb3.asynchronous.AsynchronousInterceptor.invoke(AsynchronousInterceptor.java:106)\\norg.jboss.aop.joinpoint.MethodInvocation.invokeNext(MethodInvocation.java:101)\\norg.jboss.ejb3.stateless.StatelessContainer.localInvoke(StatelessContainer.java:240)\\norg.jboss.ejb3.stateless.StatelessContainer.localInvoke(StatelessContainer.java:210)\\norg.jboss.ejb3.stateless.StatelessLocalProxy.invoke(StatelessLocalProxy.java:84)\\ncom.sun.proxy.$Proxy682.updateMibTableItem(Unknown Source)\\ncom.radware.vision.web.api.resource.WebDeviceConfigByIpAddressBean.updateMibTableItem(WebDeviceConfigByIpAddressBean.java:101)\\nsun.reflect.NativeMethodAccessorImpl.invoke0(Native Method)\\nsun.reflect.NativeMethodAccessorImpl.invoke(NativeMethodAccessorImpl.java:62)\\nsun.reflect.DelegatingMethodAccessorImpl.invoke(DelegatingMethodAccessorImpl.java:43)\\njava.lang.reflect.Method.invoke(Method.java:498)\\norg.jboss.aop.joinpoint.MethodInvocation.invokeNext(MethodInvocation.java:112)\\norg.jboss.ejb3.interceptor.InvocationContextImpl.proceed(InvocationContextImpl.java:166)\\norg.jboss.ejb3.interceptor.EJB3InterceptorsInterceptor.invoke(EJB3InterceptorsInterceptor.java:63)\\norg.jboss.aop.joinpoint.MethodInvocation.invokeNext(MethodInvocation.java:101)\\norg.jboss.ejb3.entity.TransactionScopedEntityManagerInterceptor.invoke(TransactionScopedEntityManagerInterceptor.java:54)\\norg.jboss.aop.joinpoint.MethodInvocation.invokeNext(MethodInvocation.java:101)\\norg.jboss.ejb3.AllowedOperationsInterceptor.invoke(AllowedOperationsInterceptor.java:47)\\n'}"
      ]
     },
     "execution_count": 9,
     "metadata": {},
     "output_type": "execute_result"
    }
   ],
   "source": [
    "#Edit Device table row\n",
    "#PUT /mgmt/device/byip/{deviceIp}/config/{tableName}/{indexes : .+}\n",
    "\n",
    "#Report Only ~ rsIDSNewRulesAction: 0\n",
    "#Block and Report ~ rsIDSNewRulesAction: 1\n",
    "\n",
    "url = 'https://192.168.0.76/mgmt/device/byip/192.168.0.11/config/rsIDSNewRulesTable/Prueba'\n",
    "args = {'rsIDSNewRulesAction':'0'}\n",
    "\n",
    "r = s.put(url, verify=False, json=args)\n",
    "r.json()"
   ]
  },
  {
   "cell_type": "code",
   "execution_count": 76,
   "metadata": {},
   "outputs": [
    {
     "name": "stdout",
     "output_type": "stream",
     "text": [
      "Prueba\n",
      "Prueba2\n"
     ]
    }
   ],
   "source": [
    "#Get Policies from Device\n",
    "\n",
    "#Network Protection Policies\n",
    "url = 'https://192.168.0.76/mgmt/device/byip/192.168.0.11/config/rsIDSNewRulesTable'\n",
    "\n",
    "r = s.get(url, verify=False)\n",
    "data = r.json()\n",
    "\n",
    "\n",
    "#Modify the response manual\n",
    "data = data['rsIDSNewRulesTable']\n",
    "for d in data:\n",
    "    for k, v in d.items():\n",
    "        if k == 'rsIDSNewRulesName':\n",
    "            print(v)\n"
   ]
  },
  {
   "cell_type": "markdown",
   "metadata": {},
   "source": [
    "## Objetivo 2: Poder añadir IPs a una BlackList, también se determinará el DefensePro"
   ]
  },
  {
   "cell_type": "code",
   "execution_count": 1,
   "metadata": {},
   "outputs": [
    {
     "data": {
      "text/plain": [
       "{'status': 'ok',\n",
       " 'jsessionid': '1AC6603D5FE6013C9D47D7BBAEFA2482',\n",
       " 'visionsessionid': '65c9da03-1a20-4d59-a653-199796aa7524'}"
      ]
     },
     "execution_count": 1,
     "metadata": {},
     "output_type": "execute_result"
    }
   ],
   "source": [
    "import requests\n",
    "from requests import Request, Session\n",
    "\n",
    "#Hide all warnings\n",
    "import warnings\n",
    "warnings.filterwarnings('ignore')\n",
    "\n",
    "#Create a session to login\n",
    "s = requests.Session()\n",
    "loginurl = 'https://192.168.0.76/mgmt/system/user/login'\n",
    "loginArgs = {'username':'radware','password':'abc1234.'}\n",
    "cert = 'APSoluteVisionServer.pem'\n",
    "\n",
    "#Try login\n",
    "r = s.post(loginurl, verify=False, json=loginArgs)\n",
    "r.json()"
   ]
  },
  {
   "cell_type": "code",
   "execution_count": 4,
   "metadata": {},
   "outputs": [
    {
     "data": {
      "text/plain": [
       "{'rsNewBlackListTable': [{'rsNewBlackListName': '10.0.0.2',\n",
       "   'rsNewBlackListSrcNetwork': '10.0.0.2',\n",
       "   'rsNewBlackListDstNetwork': '10.0.0.2',\n",
       "   'rsNewBlackListSrcPortGroup': '',\n",
       "   'rsNewBlackListDstPortGroup': '',\n",
       "   'rsNewBlackListPhysicalPort': '',\n",
       "   'rsNewBlackListVLANTag': '',\n",
       "   'rsNewBlackListProtocol': '0',\n",
       "   'rsNewBlackListState': '1',\n",
       "   'rsNewBlackListDirection': '1',\n",
       "   'rsNewBlackListAction': '1',\n",
       "   'rsNewBlackListReportAction': '0',\n",
       "   'rsNewBlackListDescription': '10.0.0.2',\n",
       "   'rsNewBlackListExpirationHour': '0',\n",
       "   'rsNewBlackListExpirationMinute': '0',\n",
       "   'rsNewBlackListOriginatedIP': '0.0.0.0',\n",
       "   'rsNewBlackListOriginatedModule': 'null',\n",
       "   'rsNewBlackListDetectorSecurityModule': '0',\n",
       "   'rsNewBlackListDynamicState': '2',\n",
       "   'rsNewBlackListPacketReport': '2'},\n",
       "  {'rsNewBlackListName': '10.0.0.3',\n",
       "   'rsNewBlackListSrcNetwork': '10.0.0.3',\n",
       "   'rsNewBlackListDstNetwork': '10.0.0.3',\n",
       "   'rsNewBlackListSrcPortGroup': '',\n",
       "   'rsNewBlackListDstPortGroup': '',\n",
       "   'rsNewBlackListPhysicalPort': '',\n",
       "   'rsNewBlackListVLANTag': '',\n",
       "   'rsNewBlackListProtocol': '0',\n",
       "   'rsNewBlackListState': '1',\n",
       "   'rsNewBlackListDirection': '1',\n",
       "   'rsNewBlackListAction': '1',\n",
       "   'rsNewBlackListReportAction': '0',\n",
       "   'rsNewBlackListDescription': '10.0.0.3',\n",
       "   'rsNewBlackListExpirationHour': '0',\n",
       "   'rsNewBlackListExpirationMinute': '0',\n",
       "   'rsNewBlackListOriginatedIP': '0.0.0.0',\n",
       "   'rsNewBlackListOriginatedModule': 'null',\n",
       "   'rsNewBlackListDetectorSecurityModule': '0',\n",
       "   'rsNewBlackListDynamicState': '2',\n",
       "   'rsNewBlackListPacketReport': '2'},\n",
       "  {'rsNewBlackListName': '10.0.0.5',\n",
       "   'rsNewBlackListSrcNetwork': '10.0.0.5',\n",
       "   'rsNewBlackListDstNetwork': '10.0.0.5',\n",
       "   'rsNewBlackListSrcPortGroup': '',\n",
       "   'rsNewBlackListDstPortGroup': '',\n",
       "   'rsNewBlackListPhysicalPort': '',\n",
       "   'rsNewBlackListVLANTag': '',\n",
       "   'rsNewBlackListProtocol': '0',\n",
       "   'rsNewBlackListState': '1',\n",
       "   'rsNewBlackListDirection': '1',\n",
       "   'rsNewBlackListAction': '1',\n",
       "   'rsNewBlackListReportAction': '0',\n",
       "   'rsNewBlackListDescription': '10.0.0.5',\n",
       "   'rsNewBlackListExpirationHour': '0',\n",
       "   'rsNewBlackListExpirationMinute': '0',\n",
       "   'rsNewBlackListOriginatedIP': '0.0.0.0',\n",
       "   'rsNewBlackListOriginatedModule': 'null',\n",
       "   'rsNewBlackListDetectorSecurityModule': '0',\n",
       "   'rsNewBlackListDynamicState': '2',\n",
       "   'rsNewBlackListPacketReport': '2'},\n",
       "  {'rsNewBlackListName': '10.20.30.40',\n",
       "   'rsNewBlackListSrcNetwork': '10.20.30.40',\n",
       "   'rsNewBlackListDstNetwork': '10.20.30.40',\n",
       "   'rsNewBlackListSrcPortGroup': '',\n",
       "   'rsNewBlackListDstPortGroup': '',\n",
       "   'rsNewBlackListPhysicalPort': '',\n",
       "   'rsNewBlackListVLANTag': '',\n",
       "   'rsNewBlackListProtocol': '0',\n",
       "   'rsNewBlackListState': '1',\n",
       "   'rsNewBlackListDirection': '1',\n",
       "   'rsNewBlackListAction': '1',\n",
       "   'rsNewBlackListReportAction': '0',\n",
       "   'rsNewBlackListDescription': '10.20.30.40',\n",
       "   'rsNewBlackListExpirationHour': '0',\n",
       "   'rsNewBlackListExpirationMinute': '0',\n",
       "   'rsNewBlackListOriginatedIP': '0.0.0.0',\n",
       "   'rsNewBlackListOriginatedModule': 'null',\n",
       "   'rsNewBlackListDetectorSecurityModule': '0',\n",
       "   'rsNewBlackListDynamicState': '2',\n",
       "   'rsNewBlackListPacketReport': '2'},\n",
       "  {'rsNewBlackListName': '40.30.20.10',\n",
       "   'rsNewBlackListSrcNetwork': '40.30.20.10',\n",
       "   'rsNewBlackListDstNetwork': '40.30.20.10',\n",
       "   'rsNewBlackListSrcPortGroup': '',\n",
       "   'rsNewBlackListDstPortGroup': '',\n",
       "   'rsNewBlackListPhysicalPort': '',\n",
       "   'rsNewBlackListVLANTag': '',\n",
       "   'rsNewBlackListProtocol': '0',\n",
       "   'rsNewBlackListState': '1',\n",
       "   'rsNewBlackListDirection': '1',\n",
       "   'rsNewBlackListAction': '1',\n",
       "   'rsNewBlackListReportAction': '0',\n",
       "   'rsNewBlackListDescription': '40.30.20.10',\n",
       "   'rsNewBlackListExpirationHour': '0',\n",
       "   'rsNewBlackListExpirationMinute': '0',\n",
       "   'rsNewBlackListOriginatedIP': '0.0.0.0',\n",
       "   'rsNewBlackListOriginatedModule': 'null',\n",
       "   'rsNewBlackListDetectorSecurityModule': '0',\n",
       "   'rsNewBlackListDynamicState': '2',\n",
       "   'rsNewBlackListPacketReport': '2'}]}"
      ]
     },
     "execution_count": 4,
     "metadata": {},
     "output_type": "execute_result"
    }
   ],
   "source": [
    "#Get BlackList table row\n",
    "#GET /mgmt/device/byip/{deviceIp}/config/{tableName}/{indexes : .+}\n",
    "\n",
    "''' URL Examples:\n",
    "https://192.168.0.76/mgmt/device/byip/192.168.0.11/config/rsNewBlackListTable\n",
    "https://192.168.0.76/mgmt/device/byip/192.168.0.11/config/rsNewWhiteListTable\n",
    "https://192.168.0.76/mgmt/device/byip/192.168.0.11/config/rsIDSNewRulesTable/{Policy}\n",
    "https://192.168.0.76/mgmt/device/byip/192.168.0.11/config/rsIDSNewRulesTable?props=rsIDSNewRulesName\n",
    "'''\n",
    "\n",
    "url = 'https://192.168.0.76/mgmt/device/byip/192.168.0.11/config/rsNewBlackListTable'\n",
    "\n",
    "r = s.get(url, verify=False)\n",
    "r.json()"
   ]
  },
  {
   "cell_type": "code",
   "execution_count": 5,
   "metadata": {},
   "outputs": [
    {
     "data": {
      "text/plain": [
       "{'status': 'ok'}"
      ]
     },
     "execution_count": 5,
     "metadata": {},
     "output_type": "execute_result"
    }
   ],
   "source": [
    "#Add IP to BlackList table row\n",
    "#POST /mgmt/device/byip/{deviceIp}/config/{tableName}/{indexes : .+}\n",
    "\n",
    "\n",
    "url = 'https://192.168.0.76/mgmt/device/byip/192.168.0.11/config/rsNewBlackListTable/Prueba'\n",
    "args = {\n",
    "    'rsNewBlackListName': 'Prueba',\n",
    "    'rsNewBlackListSrcNetwork': '192.168.0.100',\n",
    "    'rsNewBlackListDstNetwork': '192.168.0.100',\n",
    "    'rsNewBlackListSrcPortGroup': 'h225',\n",
    "    'rsNewBlackListDstPortGroup': 'h225',\n",
    "    'rsNewBlackListPhysicalPort': '',\n",
    "    'rsNewBlackListVLANTag': '',\n",
    "    'rsNewBlackListProtocol': '0',\n",
    "    'rsNewBlackListState': '1',\n",
    "    'rsNewBlackListDirection': '1',\n",
    "    'rsNewBlackListAction': '1',\n",
    "    'rsNewBlackListReportAction': '0',\n",
    "    'rsNewBlackListDescription': '192.168.0.100',\n",
    "    'rsNewBlackListExpirationHour': '0',\n",
    "    'rsNewBlackListExpirationMinute': '0',\n",
    "    'rsNewBlackListOriginatedIP': '0.0.0.0',\n",
    "    'rsNewBlackListOriginatedModule': '0',\n",
    "    'rsNewBlackListDetectorSecurityModule': '0',\n",
    "    'rsNewBlackListDynamicState': '2',\n",
    "    'rsNewBlackListPacketReport': '2'\n",
    "}\n",
    "\n",
    "r = s.post(url, verify=False, json=args)\n",
    "r.json()"
   ]
  },
  {
   "cell_type": "code",
   "execution_count": 6,
   "metadata": {},
   "outputs": [
    {
     "data": {
      "text/plain": [
       "{'rsNewWhiteListTable': [{'rsNewWhiteListName': '10.0.0.11',\n",
       "   'rsNewWhiteListSrcNetwork': 'any',\n",
       "   'rsNewWhiteListDstNetwork': 'any',\n",
       "   'rsNewWhiteListSrcPortGroup': '',\n",
       "   'rsNewWhiteListDstPortGroup': '',\n",
       "   'rsNewWhiteListPhysicalPort': '',\n",
       "   'rsNewWhiteListVLANTag': '',\n",
       "   'rsNewWhiteListProtocol': '0',\n",
       "   'rsNewWhiteListState': '1',\n",
       "   'rsNewWhiteListDirection': '1',\n",
       "   'rsNewWhiteListAction': '0',\n",
       "   'rsNewWhiteListReportAction': '0',\n",
       "   'rsNewWhiteListDescription': '',\n",
       "   'rsNewWhiteListAllModules': '1',\n",
       "   'rsNewWhiteListSynModule': '1',\n",
       "   'rsNewWhiteListStatefulModule': '1',\n",
       "   'rsNewWhiteListScanningModule': '1',\n",
       "   'rsNewWhiteListSignatureModule': '1',\n",
       "   'rsNewWhiteListHttpFloodModule': '1',\n",
       "   'rsNewWhiteListServerCrackingModule': '1'},\n",
       "  {'rsNewWhiteListName': '10.10.20.34',\n",
       "   'rsNewWhiteListSrcNetwork': '10.10.20.34',\n",
       "   'rsNewWhiteListDstNetwork': '10.10.20.34',\n",
       "   'rsNewWhiteListSrcPortGroup': '',\n",
       "   'rsNewWhiteListDstPortGroup': '',\n",
       "   'rsNewWhiteListPhysicalPort': '',\n",
       "   'rsNewWhiteListVLANTag': '',\n",
       "   'rsNewWhiteListProtocol': '0',\n",
       "   'rsNewWhiteListState': '1',\n",
       "   'rsNewWhiteListDirection': '1',\n",
       "   'rsNewWhiteListAction': '0',\n",
       "   'rsNewWhiteListReportAction': '0',\n",
       "   'rsNewWhiteListDescription': '10.10.20.34',\n",
       "   'rsNewWhiteListAllModules': '1',\n",
       "   'rsNewWhiteListSynModule': '1',\n",
       "   'rsNewWhiteListStatefulModule': '1',\n",
       "   'rsNewWhiteListScanningModule': '1',\n",
       "   'rsNewWhiteListSignatureModule': '1',\n",
       "   'rsNewWhiteListHttpFloodModule': '1',\n",
       "   'rsNewWhiteListServerCrackingModule': '1'}]}"
      ]
     },
     "execution_count": 6,
     "metadata": {},
     "output_type": "execute_result"
    }
   ],
   "source": [
    "#Get Whitelist table row\n",
    "#GET /mgmt/device/byip/{deviceIp}/config/{tableName}/{indexes : .+}\n",
    "\n",
    "''' URL Examples:\n",
    "https://192.168.0.76/mgmt/device/byip/192.168.0.11/config/rsNewBlackListTable\n",
    "https://192.168.0.76/mgmt/device/byip/192.168.0.11/config/rsNewWhiteListTable\n",
    "https://192.168.0.76/mgmt/device/byip/192.168.0.11/config/rsIDSNewRulesTable/{Policy}\n",
    "https://192.168.0.76/mgmt/device/byip/192.168.0.11/config/rsIDSNewRulesTable?props=rsIDSNewRulesName\n",
    "'''\n",
    "\n",
    "url = 'https://192.168.0.76/mgmt/device/byip/192.168.0.11/config/rsNewWhiteListTable'\n",
    "\n",
    "r = s.get(url, verify=False)\n",
    "r.json()"
   ]
  },
  {
   "cell_type": "code",
   "execution_count": 14,
   "metadata": {},
   "outputs": [
    {
     "data": {
      "text/plain": [
       "{'status': 'error',\n",
       " 'message': 'M_00445: Failed to perform mass operation updatepolicies',\n",
       " 'Exception': 'com.radware.vision.web.api.resource.WebMultiDeviceCommunicationBean.performPostAction(WebMultiDeviceCommunicationBean.java:202)\\nsun.reflect.NativeMethodAccessorImpl.invoke0(Native Method)\\nsun.reflect.NativeMethodAccessorImpl.invoke(NativeMethodAccessorImpl.java:62)\\nsun.reflect.DelegatingMethodAccessorImpl.invoke(DelegatingMethodAccessorImpl.java:43)\\njava.lang.reflect.Method.invoke(Method.java:498)\\norg.jboss.aop.joinpoint.MethodInvocation.invokeNext(MethodInvocation.java:112)\\norg.jboss.ejb3.interceptor.InvocationContextImpl.proceed(InvocationContextImpl.java:166)\\ncom.radware.insite.server.facade.interceptors.SessionsManagerInterceptor.validateSession(SessionsManagerInterceptor.java:94)\\nsun.reflect.GeneratedMethodAccessor230.invoke(Unknown Source)\\nsun.reflect.DelegatingMethodAccessorImpl.invoke(DelegatingMethodAccessorImpl.java:43)\\njava.lang.reflect.Method.invoke(Method.java:498)\\norg.jboss.ejb3.interceptor.InvocationContextImpl.proceed(InvocationContextImpl.java:118)\\norg.jboss.ejb3.interceptor.EJB3InterceptorsInterceptor.invoke(EJB3InterceptorsInterceptor.java:63)\\norg.jboss.aop.joinpoint.MethodInvocation.invokeNext(MethodInvocation.java:101)\\norg.jboss.ejb3.entity.TransactionScopedEntityManagerInterceptor.invoke(TransactionScopedEntityManagerInterceptor.java:54)\\norg.jboss.aop.joinpoint.MethodInvocation.invokeNext(MethodInvocation.java:101)\\norg.jboss.ejb3.AllowedOperationsInterceptor.invoke(AllowedOperationsInterceptor.java:47)\\norg.jboss.aop.joinpoint.MethodInvocation.invokeNext(MethodInvocation.java:101)\\norg.jboss.aspects.tx.TxPolicy.invokeInCallerTx(TxPolicy.java:126)\\norg.jboss.aspects.tx.TxInterceptor$Required.invoke(TxInterceptor.java:195)\\norg.jboss.aop.joinpoint.MethodInvocation.invokeNext(MethodInvocation.java:101)\\norg.jboss.aspects.tx.TxPropagationInterceptor.invoke(TxPropagationInterceptor.java:76)\\norg.jboss.aop.joinpoint.MethodInvocation.invokeNext(MethodInvocation.java:101)\\norg.jboss.ejb3.stateless.StatelessInstanceInterceptor.invoke(StatelessInstanceInterceptor.java:62)\\norg.jboss.aop.joinpoint.MethodInvocation.invokeNext(MethodInvocation.java:101)\\norg.jboss.aspects.security.AuthenticationInterceptor.invoke(AuthenticationInterceptor.java:77)\\norg.jboss.ejb3.security.Ejb3AuthenticationInterceptor.invoke(Ejb3AuthenticationInterceptor.java:110)\\norg.jboss.aop.joinpoint.MethodInvocation.invokeNext(MethodInvocation.java:101)\\norg.jboss.ejb3.ENCPropagationInterceptor.invoke(ENCPropagationInterceptor.java:46)\\norg.jboss.aop.joinpoint.MethodInvocation.invokeNext(MethodInvocation.java:101)\\norg.jboss.ejb3.asynchronous.AsynchronousInterceptor.invoke(AsynchronousInterceptor.java:106)\\norg.jboss.aop.joinpoint.MethodInvocation.invokeNext(MethodInvocation.java:101)\\norg.jboss.ejb3.stateless.StatelessContainer.localInvoke(StatelessContainer.java:240)\\norg.jboss.ejb3.stateless.StatelessContainer.localInvoke(StatelessContainer.java:210)\\norg.jboss.ejb3.stateless.StatelessLocalProxy.invoke(StatelessLocalProxy.java:84)\\ncom.sun.proxy.$Proxy733.performPostAction(Unknown Source)\\ncom.radware.vision.web.api.resource.WebMassOperationsConfigBean.updatePolicies(WebMassOperationsConfigBean.java:77)\\nsun.reflect.NativeMethodAccessorImpl.invoke0(Native Method)\\nsun.reflect.NativeMethodAccessorImpl.invoke(NativeMethodAccessorImpl.java:62)\\nsun.reflect.DelegatingMethodAccessorImpl.invoke(DelegatingMethodAccessorImpl.java:43)\\njava.lang.reflect.Method.invoke(Method.java:498)\\norg.jboss.aop.joinpoint.MethodInvocation.invokeNext(MethodInvocation.java:112)\\norg.jboss.ejb3.interceptor.InvocationContextImpl.proceed(InvocationContextImpl.java:166)\\ncom.radware.insite.server.facade.interceptors.SessionsManagerInterceptor.validateSession(SessionsManagerInterceptor.java:94)\\nsun.reflect.GeneratedMethodAccessor230.invoke(Unknown Source)\\nsun.reflect.DelegatingMethodAccessorImpl.invoke(DelegatingMethodAccessorImpl.java:43)\\njava.lang.reflect.Method.invoke(Method.java:498)\\norg.jboss.ejb3.interceptor.InvocationContextImpl.proceed(InvocationContextImpl.java:118)\\norg.jboss.ejb3.interceptor.EJB3InterceptorsInterceptor.invoke(EJB3InterceptorsInterceptor.java:63)\\norg.jboss.aop.joinpoint.MethodInvocation.invokeNext(MethodInvocation.java:101)\\norg.jboss.ejb3.entity.TransactionScopedEntityManagerInterceptor.invoke(TransactionScopedEntityManagerInterceptor.java:54)\\norg.jboss.aop.joinpoint.MethodInvocation.invokeNext(MethodInvocation.java:101)\\norg.jboss.ejb3.AllowedOperationsInterceptor.invoke(AllowedOperationsInterceptor.java:47)\\norg.jboss.aop.joinpoint.MethodInvocation.invokeNext(MethodInvocation.java:101)\\norg.jboss.aspects.tx.TxPolicy.invokeInOurTx(TxPolicy.java:79)\\norg.jboss.aspects.tx.TxInterceptor$Required.invoke(TxInterceptor.java:191)\\norg.jboss.aop.joinpoint.MethodInvocation.invokeNext(MethodInvocation.java:101)\\norg.jboss.aspects.tx.TxPropagationInterceptor.invoke(TxPropagationInterceptor.java:76)\\norg.jboss.aop.joinpoint.MethodInvocation.invokeNext(MethodInvocation.java:101)\\norg.jboss.ejb3.stateless.StatelessInstanceInterceptor.invoke(StatelessInstanceInterceptor.java:62)\\norg.jboss.aop.joinpoint.MethodInvocation.invokeNext(MethodInvocation.java:101)\\norg.jboss.aspects.security.AuthenticationInterceptor.invoke(AuthenticationInterceptor.java:77)\\norg.jboss.ejb3.security.Ejb3AuthenticationInterceptor.invoke(Ejb3AuthenticationInterceptor.java:110)\\norg.jboss.aop.joinpoint.MethodInvocation.invokeNext(MethodInvocation.java:101)\\norg.jboss.ejb3.ENCPropagationInterceptor.invoke(ENCPropagationInterceptor.java:46)\\norg.jboss.aop.joinpoint.MethodInvocation.invokeNext(MethodInvocation.java:101)\\norg.jboss.ejb3.asynchronous.AsynchronousInterceptor.invoke(AsynchronousInterceptor.java:106)\\norg.jboss.aop.joinpoint.MethodInvocation.invokeNext(MethodInvocation.java:101)\\norg.jboss.ejb3.stateless.StatelessContainer.localInvoke(StatelessContainer.java:240)\\norg.jboss.ejb3.stateless.StatelessContainer.localInvoke(StatelessContainer.java:210)\\norg.jboss.ejb3.stateless.StatelessLocalProxy.invoke(StatelessLocalProxy.java:84)\\ncom.sun.proxy.$Proxy736.updatePolicies(Unknown Source)\\nsun.reflect.NativeMethodAccessorImpl.invoke0(Native Method)\\nsun.reflect.NativeMethodAccessorImpl.invoke(NativeMethodAccessorImpl.java:62)\\nsun.reflect.DelegatingMethodAccessorImpl.invoke(DelegatingMethodAccessorImpl.java:43)\\njava.lang.reflect.Method.invoke(Method.java:498)\\norg.jboss.resteasy.core.MethodInjectorImpl.invoke(MethodInjectorImpl.java:137)\\norg.jboss.resteasy.core.ResourceMethodInvoker.invokeOnTarget(ResourceMethodInvoker.java:280)\\norg.jboss.resteasy.core.ResourceMethodInvoker.invoke(ResourceMethodInvoker.java:234)\\norg.jboss.resteasy.core.ResourceMethodInvoker.invoke(ResourceMethodInvoker.java:221)\\n'}"
      ]
     },
     "execution_count": 14,
     "metadata": {},
     "output_type": "execute_result"
    }
   ],
   "source": [
    "#Update Policies\n",
    "#POST /mgmt/device/multi/config/updatepolicies\n",
    "\n",
    "url = 'https://192.168.0.76/mgmt/device/multi/config/updatepolicies'\n",
    "\n",
    "r = s.post(url, verify=False, json=args)\n",
    "r.json()"
   ]
  },
  {
   "cell_type": "markdown",
   "metadata": {},
   "source": [
    "### Objetivo 3: Exportar baselines"
   ]
  },
  {
   "cell_type": "code",
   "execution_count": 40,
   "metadata": {},
   "outputs": [],
   "source": [
    "import requests\n",
    "from requests import Request, Session\n",
    "\n",
    "#Hide all warnings\n",
    "import warnings\n",
    "warnings.filterwarnings('ignore')\n",
    "\n",
    "#Create a session to login\n",
    "s = requests.Session()\n",
    "loginurl = 'https://192.168.0.76/mgmt/system/user/login'\n",
    "loginArgs = {'username':'radware','password':'abc1234.'}\n",
    "cert = 'APSoluteVisionServer.pem'\n",
    "\n",
    "#Try login\n",
    "r = s.post(loginurl, verify=False, json=loginArgs)\n",
    "r = r.json()\n",
    "jsessionid = r['jsessionid']\n"
   ]
  },
  {
   "cell_type": "code",
   "execution_count": 44,
   "metadata": {},
   "outputs": [
    {
     "name": "stdout",
     "output_type": "stream",
     "text": [
      "89F6C49C4BC125E0273845027130828E\n"
     ]
    },
    {
     "data": {
      "text/plain": [
       "b'<html><head><title>JBossWeb/2.0.1.GA - Error report</title><style><!--H1 {font-family:Tahoma,Arial,sans-serif;color:white;background-color:#525D76;font-size:22px;} H2 {font-family:Tahoma,Arial,sans-serif;color:white;background-color:#525D76;font-size:16px;} H3 {font-family:Tahoma,Arial,sans-serif;color:white;background-color:#525D76;font-size:14px;} BODY {font-family:Tahoma,Arial,sans-serif;color:black;background-color:white;} B {font-family:Tahoma,Arial,sans-serif;color:white;background-color:#525D76;} P {font-family:Tahoma,Arial,sans-serif;background:white;color:black;font-size:12px;}A {color : black;}A.name {color : black;}HR {color : #525D76;}--></style> </head><body><h1>HTTP Status 500 - </h1><HR size=\"1\" noshade=\"noshade\"><p><b>type</b> Exception report</p><p><b>message</b> <u></u></p><p><b>description</b> <u>The server encountered an internal error () that prevented it from fulfilling this request.</u></p><p><b>exception</b> <pre>java.lang.RuntimeException: com.radware.novis.dp.ws.rest.IncorrectRequestException: ServiceUrl=https://192.168.0.76/dp-dashboard/rest/attacks/details/bdos/statistics,  +++++++++++++++  JSESSIONID is empty! +++++++++++++\\n\\tcom.radware.novis.dp.ws.resteasy.ExceptionHandler.toResponse(ExceptionHandler.java:42)\\n\\tcom.radware.novis.dp.ws.resteasy.ExceptionHandler.toResponse(ExceptionHandler.java:17)\\n\\torg.jboss.resteasy.core.ExceptionHandler.executeExceptionMapper(ExceptionHandler.java:99)\\n\\torg.jboss.resteasy.core.ExceptionHandler.handleException(ExceptionHandler.java:235)\\n\\torg.jboss.resteasy.core.SynchronousDispatcher.writeException(SynchronousDispatcher.java:149)\\n\\torg.jboss.resteasy.core.SynchronousDispatcher.invoke(SynchronousDispatcher.java:372)\\n\\torg.jboss.resteasy.core.SynchronousDispatcher.invoke(SynchronousDispatcher.java:179)\\n\\torg.jboss.resteasy.plugins.server.servlet.ServletContainerDispatcher.service(ServletContainerDispatcher.java:220)\\n\\torg.jboss.resteasy.plugins.server.servlet.HttpServletDispatcher.service(HttpServletDispatcher.java:56)\\n\\torg.jboss.resteasy.plugins.server.servlet.HttpServletDispatcher.service(HttpServletDispatcher.java:51)\\n\\tjavax.servlet.http.HttpServlet.service(HttpServlet.java:803)\\n\\torg.jboss.web.tomcat.filters.ReplyHeaderFilter.doFilter(ReplyHeaderFilter.java:96)\\n</pre></p><p><b>root cause</b> <pre>com.radware.novis.dp.ws.rest.IncorrectRequestException: ServiceUrl=https://192.168.0.76/dp-dashboard/rest/attacks/details/bdos/statistics,  +++++++++++++++  JSESSIONID is empty! +++++++++++++\\n\\tcom.radware.novis.dp.ws.resteasy.SecurityInterceptor.filter(SecurityInterceptor.java:73)\\n\\torg.jboss.resteasy.core.ResourceMethodInvoker.invokeOnTarget(ResourceMethodInvoker.java:256)\\n\\torg.jboss.resteasy.core.ResourceMethodInvoker.invoke(ResourceMethodInvoker.java:242)\\n\\torg.jboss.resteasy.core.ResourceMethodInvoker.invoke(ResourceMethodInvoker.java:229)\\n\\torg.jboss.resteasy.core.SynchronousDispatcher.invoke(SynchronousDispatcher.java:356)\\n\\torg.jboss.resteasy.core.SynchronousDispatcher.invoke(SynchronousDispatcher.java:179)\\n\\torg.jboss.resteasy.plugins.server.servlet.ServletContainerDispatcher.service(ServletContainerDispatcher.java:220)\\n\\torg.jboss.resteasy.plugins.server.servlet.HttpServletDispatcher.service(HttpServletDispatcher.java:56)\\n\\torg.jboss.resteasy.plugins.server.servlet.HttpServletDispatcher.service(HttpServletDispatcher.java:51)\\n\\tjavax.servlet.http.HttpServlet.service(HttpServlet.java:803)\\n\\torg.jboss.web.tomcat.filters.ReplyHeaderFilter.doFilter(ReplyHeaderFilter.java:96)\\n</pre></p><p><b>note</b> <u>The full stack trace of the root cause is available in the JBossWeb/2.0.1.GA logs.</u></p><HR size=\"1\" noshade=\"noshade\"><h3>JBossWeb/2.0.1.GA</h3></body></html>'"
      ]
     },
     "execution_count": 44,
     "metadata": {},
     "output_type": "execute_result"
    }
   ],
   "source": [
    "#Get Baselines\n",
    "#GET /mgmt/monitor/security/dp/csv/download\n",
    "\n",
    "\n",
    "url = 'https://192.168.0.76/mgmt/monitor/security/dp/attacks/details/bdos/statistics'\n",
    "args = {'JSESSIONID':jsessionid}\n",
    "print(jsessionid)\n",
    "\n",
    "r = s.post(url, verify=False, data=args)\n",
    "r.content"
   ]
  },
  {
   "cell_type": "markdown",
   "metadata": {},
   "source": [
    "### Objetivo 4: Lista de defensepro"
   ]
  },
  {
   "cell_type": "code",
   "execution_count": 46,
   "metadata": {},
   "outputs": [
    {
     "data": {
      "text/plain": [
       "{'status': 'ok',\n",
       " 'jsessionid': 'D00FCCA260C80FF93C448431ABE6AF86',\n",
       " 'visionsessionid': '07d475e4-d013-4e52-95a2-e4ac283539dd'}"
      ]
     },
     "execution_count": 46,
     "metadata": {},
     "output_type": "execute_result"
    }
   ],
   "source": [
    "import requests\n",
    "from requests import Request, Session\n",
    "\n",
    "#Hide all warnings\n",
    "import warnings\n",
    "warnings.filterwarnings('ignore')\n",
    "\n",
    "#Create a session to login\n",
    "s = requests.Session()\n",
    "loginurl = 'https://192.168.0.76/mgmt/system/user/login'\n",
    "loginArgs = {'username':'radware','password':'abc1234.'}\n",
    "cert = 'APSoluteVisionServer.pem'\n",
    "\n",
    "#Try login\n",
    "r = s.post(loginurl, verify=False, json=loginArgs)\n",
    "r.json()\n",
    "\n"
   ]
  },
  {
   "cell_type": "code",
   "execution_count": 74,
   "metadata": {},
   "outputs": [
    {
     "name": "stdout",
     "output_type": "stream",
     "text": [
      "DP\n",
      "192.168.0.11\n"
     ]
    }
   ],
   "source": [
    "#Get All Devices\n",
    "#GET /mgmt/system/config/itemlist/alldevice\n",
    "\n",
    "\n",
    "url = 'https://192.168.0.76/mgmt/system/config/itemlist/alldevices'\n",
    "\n",
    "\n",
    "r = s.get(url, verify=False)\n",
    "data = r.json()\n",
    "\n",
    "#Modify the response\n",
    "for d in data:\n",
    "    for k, v in d.items():\n",
    "        if k == 'name':\n",
    "            print(v)\n",
    "        if k == 'managementIp':\n",
    "            print(v)"
   ]
  },
  {
   "cell_type": "code",
   "execution_count": null,
   "metadata": {},
   "outputs": [],
   "source": []
  }
 ],
 "metadata": {
  "kernelspec": {
   "display_name": "Python 3",
   "language": "python",
   "name": "python3"
  },
  "language_info": {
   "codemirror_mode": {
    "name": "ipython",
    "version": 3
   },
   "file_extension": ".py",
   "mimetype": "text/x-python",
   "name": "python",
   "nbconvert_exporter": "python",
   "pygments_lexer": "ipython3",
   "version": "3.6.5"
  }
 },
 "nbformat": 4,
 "nbformat_minor": 2
}
